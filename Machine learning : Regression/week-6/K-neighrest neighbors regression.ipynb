{
 "cells": [
  {
   "cell_type": "code",
   "execution_count": 186,
   "metadata": {},
   "outputs": [],
   "source": [
    "import pandas as pd\n",
    "import numpy as np"
   ]
  },
  {
   "cell_type": "code",
   "execution_count": 187,
   "metadata": {},
   "outputs": [],
   "source": [
    "dtype_dict = {'bathrooms':float, 'waterfront':int, 'sqft_above':int, 'sqft_living15':float, 'grade':int, 'yr_renovated':int, 'price':float, 'bedrooms':float, 'zipcode':str, 'long':float, 'sqft_lot15':float, 'sqft_living':float, 'floors':float, 'condition':int, 'lat':float, 'date':str, 'sqft_basement':int, 'yr_built':int, 'id':str, 'sqft_lot':int, 'view':int}"
   ]
  },
  {
   "cell_type": "code",
   "execution_count": 188,
   "metadata": {},
   "outputs": [],
   "source": [
    "data = pd.read_csv('kc_house_data_small.csv',dtype=dtype_dict)\n",
    "train = pd.read_csv('kc_house_data_small_train.csv',dtype=dtype_dict)\n",
    "test = pd.read_csv('kc_house_data_small_test.csv',dtype=dtype_dict)\n",
    "validation = pd.read_csv('kc_house_data_validation.csv',dtype=dtype_dict)"
   ]
  },
  {
   "cell_type": "code",
   "execution_count": 189,
   "metadata": {},
   "outputs": [],
   "source": [
    "def get_numpy_data(df, features, output):\n",
    "    df['constant'] = 1 # add a constant column to an SFrame\n",
    "    features = ['constant'] + features\n",
    "    features_matrix = df[features].to_numpy()\n",
    "    output_array = df[output]\n",
    "    output_array = output_array.to_numpy()\n",
    "    return(features_matrix, output_array)"
   ]
  },
  {
   "cell_type": "code",
   "execution_count": 190,
   "metadata": {},
   "outputs": [],
   "source": [
    "def normalize_features(features):\n",
    "    norms = np.sqrt(np.sum(features**2,axis=0))\n",
    "    normalized_features = features/norms\n",
    "    return (normalized_features, norms)"
   ]
  },
  {
   "cell_type": "code",
   "execution_count": 191,
   "metadata": {},
   "outputs": [],
   "source": [
    "features = [i for i,j in dtype_dict.items() if train[i].dtype != object]\n",
    "features.remove('price')"
   ]
  },
  {
   "cell_type": "code",
   "execution_count": 192,
   "metadata": {},
   "outputs": [],
   "source": [
    "train_feature_matrix,train_output = get_numpy_data(train,features,'price') "
   ]
  },
  {
   "cell_type": "code",
   "execution_count": 193,
   "metadata": {},
   "outputs": [],
   "source": [
    "test_feature_matrix,test_output = get_numpy_data(test,features,'price')"
   ]
  },
  {
   "cell_type": "code",
   "execution_count": 194,
   "metadata": {},
   "outputs": [],
   "source": [
    "valid_feature_martrix,valid_output = get_numpy_data(validation,features,'price')"
   ]
  },
  {
   "cell_type": "code",
   "execution_count": 195,
   "metadata": {},
   "outputs": [],
   "source": [
    "train_normalize,norms = normalize_features(train_feature_matrix)"
   ]
  },
  {
   "cell_type": "code",
   "execution_count": 196,
   "metadata": {},
   "outputs": [],
   "source": [
    "test_normalize = test_feature_matrix / norms\n",
    "valid_normalize = valid_feature_martrix / norms"
   ]
  },
  {
   "cell_type": "code",
   "execution_count": 197,
   "metadata": {},
   "outputs": [
    {
     "name": "stdout",
     "output_type": "stream",
     "text": [
      "[ 0.01345102  0.01807473  0.          0.01362084  0.01375926  0.01564352\n",
      "  0.          0.01551285 -0.01346922  0.0016225   0.01759212  0.017059\n",
      "  0.0116321   0.01345387  0.02481682  0.01350306  0.00160518  0.05102365]\n"
     ]
    }
   ],
   "source": [
    "print(test_normalize[0])"
   ]
  },
  {
   "cell_type": "code",
   "execution_count": 198,
   "metadata": {},
   "outputs": [
    {
     "name": "stdout",
     "output_type": "stream",
     "text": [
      "[ 0.01345102  0.00602491  0.          0.0096309   0.01195898  0.01390535\n",
      "  0.          0.01163464 -0.01346251  0.00156612  0.0083488   0.01279425\n",
      "  0.01938684  0.01346821  0.          0.01302544  0.00050756  0.        ]\n"
     ]
    }
   ],
   "source": [
    "print(train_normalize[9])"
   ]
  },
  {
   "cell_type": "code",
   "execution_count": 199,
   "metadata": {},
   "outputs": [
    {
     "data": {
      "text/plain": [
       "0.05972359371398078"
      ]
     },
     "execution_count": 199,
     "metadata": {},
     "output_type": "execute_result"
    }
   ],
   "source": [
    "np.sqrt(np.sum((train_normalize[9]-test_normalize[0])**2))"
   ]
  },
  {
   "cell_type": "code",
   "execution_count": 200,
   "metadata": {},
   "outputs": [],
   "source": [
    "l_house = []\n",
    "for i in range(10):\n",
    "    l_house.append((i,np.sqrt(np.sum((train_normalize[i]-test_normalize[0])**2))))\n",
    "    "
   ]
  },
  {
   "cell_type": "code",
   "execution_count": 201,
   "metadata": {},
   "outputs": [],
   "source": [
    "l_house = sorted(l_house,key=lambda x : x[1])"
   ]
  },
  {
   "cell_type": "code",
   "execution_count": 202,
   "metadata": {},
   "outputs": [
    {
     "data": {
      "text/plain": [
       "[(8, 0.052383627840220305),\n",
       " (3, 0.05340273979294363),\n",
       " (6, 0.0546314049677546),\n",
       " (7, 0.055431083236146074),\n",
       " (4, 0.05844484060170441),\n",
       " (9, 0.05972359371398078),\n",
       " (5, 0.059879215098128345),\n",
       " (0, 0.06027470916295592),\n",
       " (2, 0.06149946435279315),\n",
       " (1, 0.08546881147643746)]"
      ]
     },
     "execution_count": 202,
     "metadata": {},
     "output_type": "execute_result"
    }
   ],
   "source": [
    "l_house"
   ]
  },
  {
   "cell_type": "code",
   "execution_count": 203,
   "metadata": {},
   "outputs": [
    {
     "name": "stdout",
     "output_type": "stream",
     "text": [
      "[ 0.00000000e+00 -1.20498190e-02  0.00000000e+00 -5.50336860e-03\n",
      " -5.14364795e-03 -3.47633726e-03  0.00000000e+00 -3.87821276e-03\n",
      "  1.29876855e-05  6.69281453e-04 -1.05552733e-02 -8.52950206e-03\n",
      "  0.00000000e+00 -1.70254220e-05 -2.48168183e-02 -1.63756198e-04\n",
      "  2.08673616e-04 -5.10236549e-02]\n",
      "[ 0.00000000e+00 -4.51868214e-03  0.00000000e+00  1.30705004e-03\n",
      " -2.89330197e-03 -3.47633726e-03  6.65082271e-02 -3.87821276e-03\n",
      "  6.16364736e-06  1.47606982e-03 -2.26610387e-03  0.00000000e+00\n",
      "  0.00000000e+00  4.23090220e-05 -1.45830788e-02 -1.91048898e-04\n",
      "  7.19763456e-04 -5.10236549e-02]\n",
      "[ 0.00000000e+00 -1.20498190e-02  0.00000000e+00 -8.32384500e-03\n",
      "  3.72914476e-03 -5.21450589e-03  0.00000000e+00 -7.75642553e-03\n",
      "  1.56292487e-05  1.64764925e-03 -1.30002801e-02 -8.52950206e-03\n",
      "  0.00000000e+00  4.70885840e-05 -2.48168183e-02 -3.13866046e-04\n",
      "  1.60518166e-03 -5.10236549e-02]\n"
     ]
    }
   ],
   "source": [
    "for i in range(3):\n",
    "    print(train_normalize[i]-test_normalize[0])"
   ]
  },
  {
   "cell_type": "code",
   "execution_count": 204,
   "metadata": {},
   "outputs": [
    {
     "name": "stdout",
     "output_type": "stream",
     "text": [
      "[[ 0.00000000e+00 -1.20498190e-02  0.00000000e+00 -5.50336860e-03\n",
      "  -5.14364795e-03 -3.47633726e-03  0.00000000e+00 -3.87821276e-03\n",
      "   1.29876855e-05  6.69281453e-04 -1.05552733e-02 -8.52950206e-03\n",
      "   0.00000000e+00 -1.70254220e-05 -2.48168183e-02 -1.63756198e-04\n",
      "   2.08673616e-04 -5.10236549e-02]\n",
      " [ 0.00000000e+00 -4.51868214e-03  0.00000000e+00  1.30705004e-03\n",
      "  -2.89330197e-03 -3.47633726e-03  6.65082271e-02 -3.87821276e-03\n",
      "   6.16364736e-06  1.47606982e-03 -2.26610387e-03  0.00000000e+00\n",
      "   0.00000000e+00  4.23090220e-05 -1.45830788e-02 -1.91048898e-04\n",
      "   7.19763456e-04 -5.10236549e-02]\n",
      " [ 0.00000000e+00 -1.20498190e-02  0.00000000e+00 -8.32384500e-03\n",
      "   3.72914476e-03 -5.21450589e-03  0.00000000e+00 -7.75642553e-03\n",
      "   1.56292487e-05  1.64764925e-03 -1.30002801e-02 -8.52950206e-03\n",
      "   0.00000000e+00  4.70885840e-05 -2.48168183e-02 -3.13866046e-04\n",
      "   1.60518166e-03 -5.10236549e-02]]\n"
     ]
    }
   ],
   "source": [
    "print(train_normalize[0:3]-test_normalize[0])"
   ]
  },
  {
   "cell_type": "code",
   "execution_count": 205,
   "metadata": {},
   "outputs": [],
   "source": [
    "diff = train_normalize[:] - test_normalize[0]"
   ]
  },
  {
   "cell_type": "code",
   "execution_count": 206,
   "metadata": {},
   "outputs": [
    {
     "data": {
      "text/plain": [
       "-0.09343399874654644"
      ]
     },
     "execution_count": 206,
     "metadata": {},
     "output_type": "execute_result"
    }
   ],
   "source": [
    "diff[-1].sum()"
   ]
  },
  {
   "cell_type": "code",
   "execution_count": 207,
   "metadata": {},
   "outputs": [],
   "source": [
    "total_row = np.sum(diff**2,axis=1)"
   ]
  },
  {
   "cell_type": "code",
   "execution_count": 208,
   "metadata": {},
   "outputs": [
    {
     "data": {
      "text/plain": [
       "0.0033070590284564453"
      ]
     },
     "execution_count": 208,
     "metadata": {},
     "output_type": "execute_result"
    }
   ],
   "source": [
    "np.sum(diff**2, axis=1)[15]"
   ]
  },
  {
   "cell_type": "code",
   "execution_count": 209,
   "metadata": {},
   "outputs": [
    {
     "data": {
      "text/plain": [
       "0.0033070590284564453"
      ]
     },
     "execution_count": 209,
     "metadata": {},
     "output_type": "execute_result"
    }
   ],
   "source": [
    "np.sum(diff[15]**2)"
   ]
  },
  {
   "cell_type": "code",
   "execution_count": 210,
   "metadata": {},
   "outputs": [],
   "source": [
    "distance = np.sqrt(np.sum(diff**2,axis=1))"
   ]
  },
  {
   "cell_type": "code",
   "execution_count": 211,
   "metadata": {},
   "outputs": [
    {
     "data": {
      "text/plain": [
       "0.023708232416678198"
      ]
     },
     "execution_count": 211,
     "metadata": {},
     "output_type": "execute_result"
    }
   ],
   "source": [
    "distance[100]"
   ]
  },
  {
   "cell_type": "code",
   "execution_count": 212,
   "metadata": {},
   "outputs": [],
   "source": [
    "def compute_distances(features_instances, features_query):\n",
    "    diff = features_instances[:] - features_query\n",
    "    distance = np.sqrt(np.sum(diff**2,axis=1))\n",
    "    return distance"
   ]
  },
  {
   "cell_type": "code",
   "execution_count": 213,
   "metadata": {},
   "outputs": [],
   "source": [
    "d = compute_distances(train_normalize,test_normalize[2])"
   ]
  },
  {
   "cell_type": "code",
   "execution_count": 214,
   "metadata": {},
   "outputs": [],
   "source": [
    "ind = np.arange(5527)"
   ]
  },
  {
   "cell_type": "code",
   "execution_count": 215,
   "metadata": {},
   "outputs": [],
   "source": [
    "final = list(zip(ind,d))"
   ]
  },
  {
   "cell_type": "code",
   "execution_count": 216,
   "metadata": {},
   "outputs": [],
   "source": [
    "final = sorted(final,key=lambda x : x[1])"
   ]
  },
  {
   "cell_type": "code",
   "execution_count": 217,
   "metadata": {
    "scrolled": true
   },
   "outputs": [
    {
     "data": {
      "text/plain": [
       "(382, 0.0028604955575117085)"
      ]
     },
     "execution_count": 217,
     "metadata": {},
     "output_type": "execute_result"
    }
   ],
   "source": [
    "final[0]"
   ]
  },
  {
   "cell_type": "code",
   "execution_count": 218,
   "metadata": {},
   "outputs": [
    {
     "data": {
      "text/plain": [
       "249000.0"
      ]
     },
     "execution_count": 218,
     "metadata": {},
     "output_type": "execute_result"
    }
   ],
   "source": [
    "train_output[382]"
   ]
  },
  {
   "cell_type": "markdown",
   "metadata": {},
   "source": [
    "## Another method "
   ]
  },
  {
   "cell_type": "code",
   "execution_count": 219,
   "metadata": {},
   "outputs": [
    {
     "data": {
      "text/plain": [
       "0.0028604955575117085"
      ]
     },
     "execution_count": 219,
     "metadata": {},
     "output_type": "execute_result"
    }
   ],
   "source": [
    "min(d)"
   ]
  },
  {
   "cell_type": "code",
   "execution_count": 220,
   "metadata": {},
   "outputs": [
    {
     "data": {
      "text/plain": [
       "382"
      ]
     },
     "execution_count": 220,
     "metadata": {},
     "output_type": "execute_result"
    }
   ],
   "source": [
    "np.argmin(d)"
   ]
  },
  {
   "cell_type": "code",
   "execution_count": 221,
   "metadata": {},
   "outputs": [
    {
     "data": {
      "text/plain": [
       "249000.0"
      ]
     },
     "execution_count": 221,
     "metadata": {},
     "output_type": "execute_result"
    }
   ],
   "source": [
    "train_output[382]"
   ]
  },
  {
   "cell_type": "markdown",
   "metadata": {},
   "source": [
    "## K-neighrest neighbors "
   ]
  },
  {
   "cell_type": "code",
   "execution_count": 222,
   "metadata": {},
   "outputs": [],
   "source": [
    "def k_nearest_neighbors(k, feature_train, features_query):\n",
    "    diff = feature_train[:] - features_query\n",
    "    distance = np.sqrt(np.sum(diff**2,axis=1))\n",
    "    return np.argsort(distance)[0:k]"
   ]
  },
  {
   "cell_type": "code",
   "execution_count": 223,
   "metadata": {},
   "outputs": [
    {
     "data": {
      "text/plain": [
       "array([ 382, 1149, 4087, 3142])"
      ]
     },
     "execution_count": 223,
     "metadata": {},
     "output_type": "execute_result"
    }
   ],
   "source": [
    "k_nearest_neighbors(4,train_normalize,test_normalize[2])"
   ]
  },
  {
   "cell_type": "code",
   "execution_count": 224,
   "metadata": {},
   "outputs": [],
   "source": [
    "def predict_output_of_query(k, features_train, output_train, features_query):\n",
    "    diff = features_train[:] - features_query\n",
    "    distance = np.sqrt(np.sum(diff**2,axis=1))\n",
    "    ind = np.argsort(distance)[0:k]\n",
    "    prediction = np.sum(output_train[ind])/k\n",
    "    return prediction"
   ]
  },
  {
   "cell_type": "code",
   "execution_count": 225,
   "metadata": {},
   "outputs": [
    {
     "data": {
      "text/plain": [
       "431860.0"
      ]
     },
     "execution_count": 225,
     "metadata": {},
     "output_type": "execute_result"
    }
   ],
   "source": [
    "predict_output_of_query(10,train_normalize,train_output,test_normalize[1])"
   ]
  },
  {
   "cell_type": "code",
   "execution_count": 226,
   "metadata": {},
   "outputs": [
    {
     "name": "stdout",
     "output_type": "stream",
     "text": [
      "house 0 price : 881300.0\n",
      "house 1 price : 431860.0\n",
      "house 2 price : 460595.0\n",
      "house 3 price : 430200.0\n"
     ]
    }
   ],
   "source": [
    "for i in range(4):\n",
    "    print(f\"house {i} price :\",predict_output_of_query(10,train_normalize,train_output,test_normalize[i]))    "
   ]
  },
  {
   "cell_type": "code",
   "execution_count": 227,
   "metadata": {},
   "outputs": [],
   "source": [
    "def predict_output(k, features_train, output_train, features_query):\n",
    "    predictions = []\n",
    "    for i in range(len(features_query)):\n",
    "        ind = k_nearest_neighbors(k,features_train,test_normalize[i])\n",
    "        predictions.append(np.sum(output_train[ind])/k)\n",
    "    return predictions"
   ]
  },
  {
   "cell_type": "code",
   "execution_count": 228,
   "metadata": {},
   "outputs": [],
   "source": [
    "predicted_values = predict_output(10,train_normalize,train_output,test_normalize[0:10])"
   ]
  },
  {
   "cell_type": "code",
   "execution_count": 229,
   "metadata": {},
   "outputs": [
    {
     "data": {
      "text/plain": [
       "6"
      ]
     },
     "execution_count": 229,
     "metadata": {},
     "output_type": "execute_result"
    }
   ],
   "source": [
    "predicted_values.index(min(predicted_values))"
   ]
  },
  {
   "cell_type": "code",
   "execution_count": 234,
   "metadata": {},
   "outputs": [],
   "source": [
    "rss_list = []\n",
    "for i in range(1,16):\n",
    "    predictions = predict_output(i,train_normalize,train_output,valid_normalize)\n",
    "    residual = predictions - valid_output\n",
    "    rss = np.sum(residual**2)\n",
    "    rss_list.append(rss)"
   ]
  },
  {
   "cell_type": "code",
   "execution_count": 235,
   "metadata": {},
   "outputs": [
    {
     "data": {
      "text/plain": [
       "14"
      ]
     },
     "execution_count": 235,
     "metadata": {},
     "output_type": "execute_result"
    }
   ],
   "source": [
    "rss_list.index(min(rss_list))"
   ]
  },
  {
   "cell_type": "code",
   "execution_count": 236,
   "metadata": {},
   "outputs": [
    {
     "data": {
      "text/plain": [
       "272162684453609.12"
      ]
     },
     "execution_count": 236,
     "metadata": {},
     "output_type": "execute_result"
    }
   ],
   "source": [
    "rss_list[rss_list.index(min(rss_list))]"
   ]
  },
  {
   "cell_type": "code",
   "execution_count": 237,
   "metadata": {},
   "outputs": [
    {
     "data": {
      "text/plain": [
       "[<matplotlib.lines.Line2D at 0x7fa7233b78b0>]"
      ]
     },
     "execution_count": 237,
     "metadata": {},
     "output_type": "execute_result"
    },
    {
     "data": {
      "image/png": "[encoded data removed]",
      "text/plain": [
       "<Figure size 432x288 with 1 Axes>"
      ]
     },
     "metadata": {
      "needs_background": "light"
     },
     "output_type": "display_data"
    }
   ],
   "source": [
    "import matplotlib.pyplot as plt\n",
    "%matplotlib inline\n",
    "\n",
    "\n",
    "kvals = range(1,16)\n",
    "plt.plot(kvals,rss_list,'bo-')"
   ]
  },
  {
   "cell_type": "code",
   "execution_count": null,
   "metadata": {},
   "outputs": [],
   "source": []
  }
 ],
 "metadata": {
  "kernelspec": {
   "display_name": "Python 3",
   "language": "python",
   "name": "python3"
  },
  "language_info": {
   "codemirror_mode": {
    "name": "ipython",
    "version": 3
   },
   "file_extension": ".py",
   "mimetype": "text/x-python",
   "name": "python",
   "nbconvert_exporter": "python",
   "pygments_lexer": "ipython3",
   "version": "3.8.3"
  }
 },
 "nbformat": 4,
 "nbformat_minor": 4
}
