{
 "cells": [
  {
   "cell_type": "code",
   "execution_count": 27,
   "metadata": {},
   "outputs": [],
   "source": [
    "import pandas as pd\n",
    "import numpy as np\n",
    "\n",
    "dtype_dict = {'bathrooms':float, 'waterfront':int, 'sqft_above':int, 'sqft_living15':float, 'grade':int, 'yr_renovated':int, 'price':float, 'bedrooms':float, 'zipcode':str, 'long':float, 'sqft_lot15':float, 'sqft_living':float, 'floors':float, 'condition':int, 'lat':float, 'date':str, 'sqft_basement':int, 'yr_built':int, 'id':str, 'sqft_lot':int, 'view':int}\n",
    "\n",
    "sales = pd.read_csv('kc_house_data.csv', dtype=dtype_dict)"
   ]
  },
  {
   "cell_type": "code",
   "execution_count": 2,
   "metadata": {},
   "outputs": [],
   "source": [
    "from math import log, sqrt\n",
    "sales['sqft_living_sqrt'] = sales['sqft_living'].apply(sqrt)\n",
    "sales['sqft_lot_sqrt'] = sales['sqft_lot'].apply(sqrt)\n",
    "sales['bedrooms_square'] = sales['bedrooms']*sales['bedrooms']\n",
    "sales['floors_square'] = sales['floors']*sales['floors']"
   ]
  },
  {
   "cell_type": "code",
   "execution_count": 3,
   "metadata": {},
   "outputs": [
    {
     "data": {
      "text/plain": [
       "Lasso(alpha=500.0, normalize=True)"
      ]
     },
     "execution_count": 3,
     "metadata": {},
     "output_type": "execute_result"
    }
   ],
   "source": [
    "from sklearn import linear_model  # using scikit-learn\n",
    "\n",
    "all_features = ['bedrooms', 'bedrooms_square',\n",
    "            'bathrooms',\n",
    "            'sqft_living', 'sqft_living_sqrt',\n",
    "            'sqft_lot', 'sqft_lot_sqrt',\n",
    "            'floors', 'floors_square',\n",
    "            'waterfront', 'view', 'condition', 'grade',\n",
    "            'sqft_above',\n",
    "            'sqft_basement',\n",
    "            'yr_built', 'yr_renovated']\n",
    "\n",
    "model_all = linear_model.Lasso(alpha=5e2, normalize=True) # set parameters\n",
    "model_all.fit(sales[all_features], sales['price']) # learn weights"
   ]
  },
  {
   "cell_type": "code",
   "execution_count": 11,
   "metadata": {},
   "outputs": [],
   "source": [
    "l =list(model_all.coef_)"
   ]
  },
  {
   "cell_type": "code",
   "execution_count": 24,
   "metadata": {},
   "outputs": [
    {
     "data": {
      "text/plain": [
       "{'bedrooms': 0.0,\n",
       " 'bedrooms_square': 0.0,\n",
       " 'bathrooms': 0.0,\n",
       " 'sqft_living': 134.43931395541438,\n",
       " 'sqft_living_sqrt': 0.0,\n",
       " 'sqft_lot': 0.0,\n",
       " 'sqft_lot_sqrt': 0.0,\n",
       " 'floors': 0.0,\n",
       " 'floors_square': 0.0,\n",
       " 'waterfront': 0.0,\n",
       " 'view': 24750.004585609488,\n",
       " 'condition': 0.0,\n",
       " 'grade': 61749.10309070811,\n",
       " 'sqft_above': 0.0,\n",
       " 'sqft_basement': 0.0,\n",
       " 'yr_built': -0.0,\n",
       " 'yr_renovated': 0.0}"
      ]
     },
     "execution_count": 24,
     "metadata": {},
     "output_type": "execute_result"
    }
   ],
   "source": [
    "d = dict(zip(all_features,l))\n",
    "d"
   ]
  },
  {
   "cell_type": "code",
   "execution_count": 25,
   "metadata": {},
   "outputs": [],
   "source": [
    "testing = pd.read_csv('wk3_kc_house_test_data.csv', dtype=dtype_dict)\n",
    "training = pd.read_csv('wk3_kc_house_train_data.csv', dtype=dtype_dict)\n",
    "validation = pd.read_csv('wk3_kc_house_valid_data.csv', dtype=dtype_dict)"
   ]
  },
  {
   "cell_type": "code",
   "execution_count": 26,
   "metadata": {},
   "outputs": [],
   "source": [
    "testing['sqft_living_sqrt'] = testing['sqft_living'].apply(sqrt)\n",
    "testing['sqft_lot_sqrt'] = testing['sqft_lot'].apply(sqrt)\n",
    "testing['bedrooms_square'] = testing['bedrooms']*testing['bedrooms']\n",
    "testing['floors_square'] = testing['floors']*testing['floors']\n",
    "\n",
    "training['sqft_living_sqrt'] = training['sqft_living'].apply(sqrt)\n",
    "training['sqft_lot_sqrt'] = training['sqft_lot'].apply(sqrt)\n",
    "training['bedrooms_square'] = training['bedrooms']*training['bedrooms']\n",
    "training['floors_square'] = training['floors']*training['floors']\n",
    "\n",
    "validation['sqft_living_sqrt'] = validation['sqft_living'].apply(sqrt)\n",
    "validation['sqft_lot_sqrt'] = validation['sqft_lot'].apply(sqrt)\n",
    "validation['bedrooms_square'] = validation['bedrooms']*validation['bedrooms']\n",
    "validation['floors_square'] = validation['floors']*validation['floors']"
   ]
  },
  {
   "cell_type": "code",
   "execution_count": 28,
   "metadata": {},
   "outputs": [],
   "source": [
    "l1_penalty = np.logspace(1,7,num=13)"
   ]
  },
  {
   "cell_type": "code",
   "execution_count": 33,
   "metadata": {},
   "outputs": [],
   "source": [
    "rss_list = []\n",
    "for i in l1_penalty:\n",
    "    model = linear_model.Lasso(alpha=i,normalize=True)\n",
    "    model.fit(training[all_features],training['price'])\n",
    "    rss = np.sum((model.predict(validation[all_features]) - validation['price'])**2)\n",
    "    rss_list.append((i,rss))"
   ]
  },
  {
   "cell_type": "code",
   "execution_count": 44,
   "metadata": {},
   "outputs": [
    {
     "data": {
      "text/plain": [
       "[(10.0, 398213327300135.0),\n",
       " (31.622776601683793, 399041900253346.9),\n",
       " (100.0, 429791604072559.6),\n",
       " (316.22776601683796, 463739831045121.06),\n",
       " (1000.0, 645898733633800.8),\n",
       " (3162.2776601683795, 1222506859427163.0),\n",
       " (10000.0, 1222506859427163.0),\n",
       " (31622.776601683792, 1222506859427163.0),\n",
       " (100000.0, 1222506859427163.0),\n",
       " (316227.7660168379, 1222506859427163.0),\n",
       " (1000000.0, 1222506859427163.0),\n",
       " (3162277.6601683795, 1222506859427163.0),\n",
       " (10000000.0, 1222506859427163.0)]"
      ]
     },
     "execution_count": 44,
     "metadata": {},
     "output_type": "execute_result"
    }
   ],
   "source": [
    "rss_list = sorted(rss_list,key=lambda x:x[1])\n",
    "rss_list"
   ]
  },
  {
   "cell_type": "code",
   "execution_count": 46,
   "metadata": {},
   "outputs": [
    {
     "data": {
      "text/plain": [
       "Lasso(alpha=10.0, normalize=True)"
      ]
     },
     "execution_count": 46,
     "metadata": {},
     "output_type": "execute_result"
    }
   ],
   "source": [
    "train_model = linear_model.Lasso(alpha=10.0,normalize=True)\n",
    "train_model.fit(training[all_features],training['price'])"
   ]
  },
  {
   "cell_type": "code",
   "execution_count": 49,
   "metadata": {},
   "outputs": [
    {
     "data": {
      "text/plain": [
       "15"
      ]
     },
     "execution_count": 49,
     "metadata": {},
     "output_type": "execute_result"
    }
   ],
   "source": [
    "np.count_nonzero(train_model.coef_) + np.count_nonzero(train_model.intercept_)"
   ]
  },
  {
   "cell_type": "code",
   "execution_count": 50,
   "metadata": {},
   "outputs": [],
   "source": [
    "max_nonzeros = 7"
   ]
  },
  {
   "cell_type": "code",
   "execution_count": 67,
   "metadata": {},
   "outputs": [],
   "source": [
    "l1_penalty = np.logspace(1,4,num=20)"
   ]
  },
  {
   "cell_type": "code",
   "execution_count": 80,
   "metadata": {},
   "outputs": [],
   "source": [
    "nonzero_count = []\n",
    "\n",
    "for i in l1_penalty:\n",
    "    train_model = linear_model.Lasso(alpha=i,normalize=True)\n",
    "    train_model.fit(training[all_features],training['price'])\n",
    "    if train_model.intercept_ == 0:\n",
    "        counts = np.count_nonzero(train_model.coef_)\n",
    "        nonzero_count.append((i,counts))\n",
    "    else:\n",
    "        counts = np.count_nonzero(train_model.coef_) + np.count_nonzero(train_model.intercept_)\n",
    "        nonzero_count.append((i,counts))"
   ]
  },
  {
   "cell_type": "code",
   "execution_count": 81,
   "metadata": {},
   "outputs": [
    {
     "data": {
      "text/plain": [
       "[(10.0, 15),\n",
       " (14.38449888287663, 15),\n",
       " (20.6913808111479, 15),\n",
       " (29.76351441631318, 15),\n",
       " (42.81332398719393, 13),\n",
       " (61.58482110660264, 12),\n",
       " (88.58667904100822, 11),\n",
       " (127.42749857031335, 10),\n",
       " (183.29807108324357, 7),\n",
       " (263.6650898730358, 6),\n",
       " (379.26901907322497, 6),\n",
       " (545.5594781168514, 6),\n",
       " (784.7599703514607, 5),\n",
       " (1128.8378916846884, 3),\n",
       " (1623.776739188721, 3),\n",
       " (2335.7214690901214, 2),\n",
       " (3359.818286283781, 1),\n",
       " (4832.930238571752, 1),\n",
       " (6951.927961775606, 1),\n",
       " (10000.0, 1)]"
      ]
     },
     "execution_count": 81,
     "metadata": {},
     "output_type": "execute_result"
    }
   ],
   "source": [
    "nonzero_count"
   ]
  },
  {
   "cell_type": "code",
   "execution_count": 82,
   "metadata": {},
   "outputs": [
    {
     "data": {
      "text/plain": [
       "127.42749857031335"
      ]
     },
     "execution_count": 82,
     "metadata": {},
     "output_type": "execute_result"
    }
   ],
   "source": [
    "greater = [k for k,v in nonzero_count if v > 7]\n",
    "l1_penalty_min = max(greater)\n",
    "l1_penalty_min"
   ]
  },
  {
   "cell_type": "code",
   "execution_count": 83,
   "metadata": {},
   "outputs": [
    {
     "data": {
      "text/plain": [
       "263.6650898730358"
      ]
     },
     "execution_count": 83,
     "metadata": {},
     "output_type": "execute_result"
    }
   ],
   "source": [
    "smaller = [k for k,v in nonzero_count if v < 7]\n",
    "l1_penalty_max = min(smaller)\n",
    "l1_penalty_max"
   ]
  },
  {
   "cell_type": "code",
   "execution_count": 84,
   "metadata": {},
   "outputs": [],
   "source": [
    "l1_penalty = np.linspace(l1_penalty_min,l1_penalty_max,20)"
   ]
  },
  {
   "cell_type": "code",
   "execution_count": 101,
   "metadata": {},
   "outputs": [],
   "source": [
    "nonzero_count_2 = []\n",
    "rss_list_2 =[]\n",
    "for i in l1_penalty:\n",
    "    train_model = linear_model.Lasso(alpha=i,normalize=True)\n",
    "    train_model.fit(training[all_features],training['price'])\n",
    "    rss = np.sum((train_model.predict(validation[all_features]) - validation['price'])**2)\n",
    "    rss_list_2.append((i,rss))\n",
    "    if train_model.intercept_ == 0:\n",
    "        counts = np.count_nonzero(train_model.coef_)\n",
    "        nonzero_count_2.append((i,counts))\n",
    "    else:\n",
    "        counts = np.count_nonzero(train_model.coef_) + np.count_nonzero(train_model.intercept_)\n",
    "        nonzero_count_2.append((i,counts))"
   ]
  },
  {
   "cell_type": "code",
   "execution_count": 102,
   "metadata": {},
   "outputs": [],
   "source": [
    "list_of_7 = [k for k,v in nonzero_count_2 if v == max_nonzeros]"
   ]
  },
  {
   "cell_type": "code",
   "execution_count": 105,
   "metadata": {},
   "outputs": [],
   "source": [
    "rss_list_2 = [(y,x) for x,y in rss_list_2 if x in list_of_7]"
   ]
  },
  {
   "cell_type": "code",
   "execution_count": 104,
   "metadata": {},
   "outputs": [
    {
     "data": {
      "text/plain": [
       "[(440037365263316.56, 156.10909673930755),\n",
       " (440777489641605.25, 163.2794962815561),\n",
       " (441566698090139.94, 170.44989582380464),\n",
       " (442406413188666.25, 177.6202953660532),\n",
       " (443296716874315.06, 184.79069490830176),\n",
       " (444239780526141.6, 191.96109445055032),\n",
       " (445230739842614.2, 199.13149399279888)]"
      ]
     },
     "execution_count": 104,
     "metadata": {},
     "output_type": "execute_result"
    }
   ],
   "source": [
    "rss_list_2"
   ]
  },
  {
   "cell_type": "code",
   "execution_count": 110,
   "metadata": {},
   "outputs": [
    {
     "data": {
      "text/plain": [
       "Lasso(alpha=156.10909673930755, normalize=True)"
      ]
     },
     "execution_count": 110,
     "metadata": {},
     "output_type": "execute_result"
    }
   ],
   "source": [
    "model_1 = linear_model.Lasso(alpha=list_of_7[0], normalize=True) \n",
    "model_1.fit(training[all_features], training['price'])"
   ]
  },
  {
   "cell_type": "code",
   "execution_count": 111,
   "metadata": {},
   "outputs": [
    {
     "data": {
      "text/plain": [
       "bedrooms                -0.000000\n",
       "bedrooms_square         -0.000000\n",
       "bathrooms            10610.890284\n",
       "sqft_living            163.380252\n",
       "sqft_living_sqrt         0.000000\n",
       "sqft_lot                -0.000000\n",
       "sqft_lot_sqrt           -0.000000\n",
       "floors                   0.000000\n",
       "floors_square            0.000000\n",
       "waterfront          506451.687115\n",
       "view                 41960.043555\n",
       "condition                0.000000\n",
       "grade               116253.553700\n",
       "sqft_above               0.000000\n",
       "sqft_basement            0.000000\n",
       "yr_built             -2612.234880\n",
       "yr_renovated             0.000000\n",
       "dtype: float64"
      ]
     },
     "execution_count": 111,
     "metadata": {},
     "output_type": "execute_result"
    }
   ],
   "source": [
    "pd.Series(model_1.coef_,index=all_features)"
   ]
  },
  {
   "cell_type": "code",
   "execution_count": null,
   "metadata": {},
   "outputs": [],
   "source": []
  }
 ],
 "metadata": {
  "kernelspec": {
   "display_name": "Python 3",
   "language": "python",
   "name": "python3"
  },
  "language_info": {
   "codemirror_mode": {
    "name": "ipython",
    "version": 3
   },
   "file_extension": ".py",
   "mimetype": "text/x-python",
   "name": "python",
   "nbconvert_exporter": "python",
   "pygments_lexer": "ipython3",
   "version": "3.8.3"
  }
 },
 "nbformat": 4,
 "nbformat_minor": 4
}
